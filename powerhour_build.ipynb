{
 "cells": [
  {
   "cell_type": "code",
   "execution_count": 23,
   "metadata": {},
   "outputs": [],
   "source": [
    "# -*- coding: utf-8 -*-\n",
    "\"\"\"\n",
    "Created on Sat Apr 18 20:18:15 2020\n",
    "\n",
    "@author: jeffr\n",
    "\"\"\"\n",
    "\n",
    "# packages needed\n",
    "import selenium as sl\n",
    "from selenium import webdriver\n",
    "import pandas as pd\n"
   ]
  },
  {
   "cell_type": "code",
   "execution_count": 24,
   "metadata": {},
   "outputs": [
    {
     "name": "stdout",
     "output_type": "stream",
     "text": [
      "   number        clipid  year          event  \\\n",
      "0       1  HorseRacing1  2015  Triple crown    \n",
      "1       2         Golf1  2019        Masters   \n",
      "2       3         Golf7  2017           Open   \n",
      "3       4         Golf9  2016      Ryder Cup   \n",
      "4       5        Golf10  2016        Masters   \n",
      "\n",
      "                                                desc  \\\n",
      "0                                   American Pharaoh   \n",
      "1  Tiger wins 2019 masters (water balls by compet...   \n",
      "2                            Spieth Open go get that   \n",
      "3                   Reed-Rory Ryder cup singles 2016   \n",
      "4                                    Spieth collapse   \n",
      "\n",
      "                                                link  duration  \n",
      "0  https://www.youtube.com/watch?v=WyDcXtVb8_U&t=101        60  \n",
      "1    https://www.youtube.com/watch?v=pE-aOBGN8UM&t=0        70  \n",
      "2    https://www.youtube.com/watch?v=-0q3doVGUuE&t=0        80  \n",
      "3    https://www.youtube.com/watch?v=3fKB0UJxhe4&t=0        68  \n",
      "4  https://www.youtube.com/watch?v=bMf0JpfpZu8&t=209        60  \n"
     ]
    }
   ],
   "source": [
    "# import dataframe of powerhour videos\n",
    "df = pd.read_csv('./powerhour.csv')\n",
    "\n",
    "print(df.head(5))"
   ]
  },
  {
   "cell_type": "code",
   "execution_count": 25,
   "metadata": {},
   "outputs": [],
   "source": [
    "# create iterables for video loops\n",
    "itrlink = df.link\n",
    "itrduration = df.duration"
   ]
  },
  {
   "cell_type": "code",
   "execution_count": 27,
   "metadata": {},
   "outputs": [],
   "source": [
    "# set selenium browser and load webpage\n",
    "browser = sl.webdriver.Firefox()\n",
    "browser.get('https://www.youtube.com')"
   ]
  },
  {
   "cell_type": "code",
   "execution_count": 29,
   "metadata": {},
   "outputs": [
    {
     "ename": "NameError",
     "evalue": "name 'time' is not defined",
     "output_type": "error",
     "traceback": [
      "\u001b[1;31m---------------------------------------------------------------------------\u001b[0m",
      "\u001b[1;31mNameError\u001b[0m                                 Traceback (most recent call last)",
      "\u001b[1;32m<ipython-input-29-dfb473cab4cd>\u001b[0m in \u001b[0;36m<module>\u001b[1;34m\u001b[0m\n\u001b[0;32m      8\u001b[0m \u001b[1;33m\u001b[0m\u001b[0m\n\u001b[0;32m      9\u001b[0m     \u001b[0mt\u001b[0m \u001b[1;33m=\u001b[0m \u001b[0mitrduration\u001b[0m\u001b[1;33m\u001b[0m\u001b[1;33m\u001b[0m\u001b[0m\n\u001b[1;32m---> 10\u001b[1;33m     \u001b[0mtimeout_start\u001b[0m \u001b[1;33m=\u001b[0m \u001b[0mtime\u001b[0m\u001b[1;33m.\u001b[0m\u001b[0mtime\u001b[0m\u001b[1;33m(\u001b[0m\u001b[1;33m)\u001b[0m\u001b[1;33m\u001b[0m\u001b[1;33m\u001b[0m\u001b[0m\n\u001b[0m\u001b[0;32m     11\u001b[0m \u001b[1;33m\u001b[0m\u001b[0m\n\u001b[0;32m     12\u001b[0m     \u001b[1;32mwhile\u001b[0m \u001b[0mtime\u001b[0m\u001b[1;33m.\u001b[0m\u001b[0mtime\u001b[0m\u001b[1;33m(\u001b[0m\u001b[1;33m)\u001b[0m \u001b[1;33m<\u001b[0m \u001b[0mtimeout_start\u001b[0m \u001b[1;33m+\u001b[0m \u001b[0mnext\u001b[0m\u001b[1;33m(\u001b[0m\u001b[0mt\u001b[0m\u001b[1;33m)\u001b[0m\u001b[1;33m:\u001b[0m\u001b[1;33m\u001b[0m\u001b[1;33m\u001b[0m\u001b[0m\n",
      "\u001b[1;31mNameError\u001b[0m: name 'time' is not defined"
     ]
    }
   ],
   "source": [
    "# video playback\n",
    "\n",
    "# the intent is:\n",
    "# use an iterable of the video links to run through each link\n",
    "# and using a while loop to set a condition of # seconds until the next link is loaded\n",
    "\n",
    "for i in itrlink:\n",
    "\n",
    "    t = itrduration\n",
    "    timeout_start = time.time()\n",
    "\n",
    "    while time.time() < timeout_start + next(t):   \n",
    "        browser.get(next(i))"
   ]
  },
  {
   "cell_type": "code",
   "execution_count": 21,
   "metadata": {},
   "outputs": [
    {
     "ename": "SyntaxError",
     "evalue": "invalid syntax (<ipython-input-21-fa3980bc165b>, line 1)",
     "output_type": "error",
     "traceback": [
      "\u001b[1;36m  File \u001b[1;32m\"<ipython-input-21-fa3980bc165b>\"\u001b[1;36m, line \u001b[1;32m1\u001b[0m\n\u001b[1;33m    where python\u001b[0m\n\u001b[1;37m               ^\u001b[0m\n\u001b[1;31mSyntaxError\u001b[0m\u001b[1;31m:\u001b[0m invalid syntax\n"
     ]
    }
   ],
   "source": []
  }
 ],
 "metadata": {
  "kernelspec": {
   "display_name": "Python 3",
   "language": "python",
   "name": "python3"
  },
  "language_info": {
   "codemirror_mode": {
    "name": "ipython",
    "version": 3
   },
   "file_extension": ".py",
   "mimetype": "text/x-python",
   "name": "python",
   "nbconvert_exporter": "python",
   "pygments_lexer": "ipython3",
   "version": "3.7.7"
  }
 },
 "nbformat": 4,
 "nbformat_minor": 4
}
