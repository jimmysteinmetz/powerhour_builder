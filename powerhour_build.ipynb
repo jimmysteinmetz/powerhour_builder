{
 "cells": [
  {
   "cell_type": "code",
   "execution_count": 13,
   "metadata": {},
   "outputs": [],
   "source": [
    "# -*- coding: utf-8 -*-\n",
    "\"\"\"\n",
    "Created on Sat Apr 18 20:18:15 2020\n",
    "\n",
    "@author: jeffr\n",
    "\"\"\"\n",
    "\n",
    "# packages needed\n",
    "import time\n",
    "#import selenium as sl\n",
    "#from selenium import webdriver\n",
    "import pandas as pd\n",
    "from pytube import YouTube\n"
   ]
  },
  {
   "cell_type": "code",
   "execution_count": 14,
   "metadata": {},
   "outputs": [
    {
     "name": "stdout",
     "output_type": "stream",
     "text": [
      "   number        clipid  year          event  \\\n",
      "0       1  HorseRacing1  2015  Triple crown    \n",
      "1       2         Golf1  2019        Masters   \n",
      "2       3         Golf7  2017           Open   \n",
      "3       4         Golf9  2016      Ryder Cup   \n",
      "4       5        Golf10  2016        Masters   \n",
      "\n",
      "                                                desc  \\\n",
      "0                                   American Pharaoh   \n",
      "1  Tiger wins 2019 masters (water balls by compet...   \n",
      "2                            Spieth Open go get that   \n",
      "3                   Reed-Rory Ryder cup singles 2016   \n",
      "4                                    Spieth collapse   \n",
      "\n",
      "                                                link  duration  \n",
      "0  https://www.youtube.com/watch?v=WyDcXtVb8_U&t=101        60  \n",
      "1    https://www.youtube.com/watch?v=pE-aOBGN8UM&t=0        70  \n",
      "2    https://www.youtube.com/watch?v=-0q3doVGUuE&t=0        80  \n",
      "3    https://www.youtube.com/watch?v=3fKB0UJxhe4&t=0        68  \n",
      "4  https://www.youtube.com/watch?v=bMf0JpfpZu8&t=209        60  \n"
     ]
    }
   ],
   "source": [
    "# import dataframe of powerhour videos\n",
    "df = pd.read_csv('./powerhour.csv')\n",
    "\n",
    "print(df.head(5))"
   ]
  },
  {
   "cell_type": "code",
   "execution_count": 58,
   "metadata": {},
   "outputs": [
    {
     "name": "stdout",
     "output_type": "stream",
     "text": [
      "https://www.youtube.com/watch?v=WyDcXtVb8_U&t=101\n"
     ]
    }
   ],
   "source": [
    "# create iterables for video loops\n",
    "itrlink = df.link\n",
    "itrduration = df.duration\n",
    "\n",
    "df = df[0:2]\n",
    "\n",
    "print(df.iloc[0].link)\n",
    "\n",
    "VIDEO_STAGE_PATH = './video_staging/'\n",
    "\n",
    "test_link = itrlink[0]"
   ]
  },
  {
   "cell_type": "code",
   "execution_count": 61,
   "metadata": {},
   "outputs": [
    {
     "name": "stdout",
     "output_type": "stream",
     "text": [
      "Task Completed!\n",
      "Task Completed!\n"
     ]
    }
   ],
   "source": [
    "#  download youtube videos\n",
    "for clip in range(0,len(df)):\n",
    "    \n",
    "    yt = YouTube(df.iloc[clip].link)\n",
    "\n",
    "    mp4files = yt.streams.filter('mp4')\n",
    "\n",
    "    yt.set_filename = df.iloc[clip].clipid\n",
    "\n",
    "    d_video = yt.streams.first()#(mp4files[-1].extension,mp4files[-1].resolution)\n",
    "\n",
    "    try: \n",
    "        #downloading the video \n",
    "        d_video.download(VIDEO_STAGE_PATH) \n",
    "    except: \n",
    "        print(\"Some Error!\") \n",
    "    print('Task Completed!')"
   ]
  },
  {
   "cell_type": "code",
   "execution_count": null,
   "metadata": {},
   "outputs": [],
   "source": []
  }
 ],
 "metadata": {
  "kernelspec": {
   "display_name": "Python 3",
   "language": "python",
   "name": "python3"
  },
  "language_info": {
   "codemirror_mode": {
    "name": "ipython",
    "version": 3
   },
   "file_extension": ".py",
   "mimetype": "text/x-python",
   "name": "python",
   "nbconvert_exporter": "python",
   "pygments_lexer": "ipython3",
   "version": "3.7.7"
  }
 },
 "nbformat": 4,
 "nbformat_minor": 4
}
