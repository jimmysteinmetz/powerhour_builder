{
 "cells": [
  {
   "cell_type": "code",
   "execution_count": 152,
   "metadata": {},
   "outputs": [],
   "source": [
    "# -*- coding: utf-8 -*-\n",
    "\"\"\"\n",
    "Created on Sat Apr 18 20:18:15 2020\n",
    "\n",
    "@author: jeffr\n",
    "\"\"\"\n",
    "\n",
    "# packages needed\n",
    "import os, subprocess, random\n",
    "import pandas as pd\n",
    "\n",
    "from pytube import YouTube\n",
    "from moviepy.video.io.ffmpeg_tools import ffmpeg_extract_subclip\n",
    "from moviepy.editor import *\n",
    "from natsort import natsorted\n"
   ]
  },
  {
   "cell_type": "code",
   "execution_count": 134,
   "metadata": {},
   "outputs": [
    {
     "name": "stdout",
     "output_type": "stream",
     "text": [
      "   number        clipid  year          event  \\\n",
      "0       1  HorseRacing1  2015  Triple crown    \n",
      "1       2         Golf1  2019        Masters   \n",
      "2       3         Golf7  2017           Open   \n",
      "3       4         Golf9  2016      Ryder Cup   \n",
      "4       5        Golf10  2016        Masters   \n",
      "\n",
      "                                                desc  \\\n",
      "0                                   American Pharaoh   \n",
      "1  Tiger wins 2019 masters (water balls by compet...   \n",
      "2                            Spieth Open go get that   \n",
      "3                   Reed-Rory Ryder cup singles 2016   \n",
      "4                                    Spieth collapse   \n",
      "\n",
      "                                                link  duration  \n",
      "0  https://www.youtube.com/watch?v=WyDcXtVb8_U&t=101        60  \n",
      "1    https://www.youtube.com/watch?v=pE-aOBGN8UM&t=0        70  \n",
      "2    https://www.youtube.com/watch?v=-0q3doVGUuE&t=0        80  \n",
      "3    https://www.youtube.com/watch?v=3fKB0UJxhe4&t=0        68  \n",
      "4  https://www.youtube.com/watch?v=bMf0JpfpZu8&t=209        60  \n"
     ]
    }
   ],
   "source": [
    "# import dataframe of powerhour videos\n",
    "df = pd.read_csv('./powerhour.csv')\n",
    "\n",
    "print(df.head(5))"
   ]
  },
  {
   "cell_type": "code",
   "execution_count": 135,
   "metadata": {},
   "outputs": [
    {
     "name": "stdout",
     "output_type": "stream",
     "text": [
      "https://www.youtube.com/watch?v=WyDcXtVb8_U&t=101\n"
     ]
    }
   ],
   "source": [
    "# create iterables for video loops\n",
    "itrlink = df.link\n",
    "itrduration = df.duration\n",
    "\n",
    "df = df[0:4]\n",
    "\n",
    "print(df.iloc[0].link)\n",
    "\n",
    "VIDEO_STAGE_PATH = './video_staging/'\n"
   ]
  },
  {
   "cell_type": "code",
   "execution_count": 136,
   "metadata": {},
   "outputs": [
    {
     "name": "stdout",
     "output_type": "stream",
     "text": [
      "Task Completed!\n",
      "Task Completed!\n",
      "Task Completed!\n",
      "Task Completed!\n"
     ]
    }
   ],
   "source": [
    "# initialize empty dataframe to put metadata in\n",
    "video_length_logging = pd.DataFrame(columns=['video_title', 'video_start', 'video_finish'])\n",
    "\n",
    "#  download youtube videos\n",
    "for clip in range(0,len(df)):\n",
    "        \n",
    "    video_link = df.iloc[clip].link\n",
    "    clipid = df.iloc[clip].clipid\n",
    "    yt = YouTube(video_link)\n",
    "\n",
    "    # grab only video (mp4) files\n",
    "    mp4files = yt.streams.filter('mp4')\n",
    "    #\n",
    "    d_video = yt.streams.first()#(mp4files[-1].extension,mp4files[-1].resolution)\n",
    "    \n",
    "    # build some metadata for slicing videos later\n",
    "    video_title = d_video.title\n",
    "    video_start = video_link.split(\"&t=\",1)[1]\n",
    "    video_finish = float(video_start) + df.iloc[clip].duration\n",
    "    video_length_logging = video_length_logging.append(\n",
    "        {'video_title': clipid, \n",
    "         'video_start': video_start, \n",
    "         'video_finish': video_finish}\n",
    "        , ignore_index=True)\n",
    "    \n",
    "    try: \n",
    "        #downloading the video \n",
    "        d_video.download(VIDEO_STAGE_PATH, filename=clipid) \n",
    "    except: \n",
    "        print(\"Some Error!\") \n",
    "    print('Task Completed!')\n"
   ]
  },
  {
   "cell_type": "code",
   "execution_count": 137,
   "metadata": {},
   "outputs": [
    {
     "name": "stdout",
     "output_type": "stream",
     "text": [
      "Moviepy - Running:\n",
      ">>> \"+ \" \".join(cmd)\n",
      "Moviepy - Command successful\n",
      "Moviepy - Running:\n",
      ">>> \"+ \" \".join(cmd)\n",
      "Moviepy - Command successful\n",
      "Moviepy - Running:\n",
      ">>> \"+ \" \".join(cmd)\n",
      "Moviepy - Command successful\n",
      "Moviepy - Running:\n",
      ">>> \"+ \" \".join(cmd)\n",
      "Moviepy - Command successful\n"
     ]
    }
   ],
   "source": [
    "# clip videos to relevant time periods\n",
    "\n",
    "for video_clip_name in os.listdir('video_staging/'):\n",
    "    \n",
    "    video_metadata = video_length_logging[video_length_logging['video_title']==video_clip_name.split(\".mp4\",1)[0]]\n",
    "    \n",
    "    test_clip = \"video_staging/\" + video_clip_name\n",
    "    trimmed_clip = ffmpeg_extract_subclip(test_clip,\n",
    "                                          float(video_metadata['video_start']),\n",
    "                                          float(video_metadata['video_finish']),\n",
    "                                          targetname='./video_clipping/' + video_clip_name)\n"
   ]
  },
  {
   "cell_type": "code",
   "execution_count": 154,
   "metadata": {},
   "outputs": [
    {
     "name": "stderr",
     "output_type": "stream",
     "text": [
      "\r",
      "chunk:   0%|          | 0/6151 [00:00<?, ?it/s, now=None]"
     ]
    },
    {
     "name": "stdout",
     "output_type": "stream",
     "text": [
      "Moviepy - Building video outputs/output.mp4.\n",
      "MoviePy - Writing audio in outputTEMP_MPY_wvf_snd.mp3\n"
     ]
    },
    {
     "name": "stderr",
     "output_type": "stream",
     "text": [
      "t:   1%|          | 35/6695 [00:00<00:19, 349.84it/s, now=None]      "
     ]
    },
    {
     "name": "stdout",
     "output_type": "stream",
     "text": [
      "MoviePy - Done.\n",
      "Moviepy - Writing video outputs/output.mp4\n",
      "\n"
     ]
    },
    {
     "name": "stderr",
     "output_type": "stream",
     "text": [
      "                                                                 \r"
     ]
    },
    {
     "name": "stdout",
     "output_type": "stream",
     "text": [
      "Moviepy - Done !\n",
      "Moviepy - video ready outputs/output.mp4\n"
     ]
    }
   ],
   "source": [
    "# Intialize empty set for videos\n",
    "L =[]\n",
    "\n",
    "for root, dirs, files in os.walk(\"video_clipping/\"):\n",
    "\n",
    "    files.sort(reverse=True)\n",
    "    files = natsorted(files)\n",
    "    for file in files:\n",
    "        if os.path.splitext(file)[1] == '.mp4':\n",
    "            filePath = os.path.join(root, file)\n",
    "            video = VideoFileClip(filePath)\n",
    "            L.append(video)\n",
    "\n",
    "final_clip = concatenate_videoclips(L)\n",
    "final_clip.to_videofile(\"outputs/output.mp4\", fps=24, remove_temp=False)"
   ]
  }
 ],
 "metadata": {
  "kernelspec": {
   "display_name": "Python 3",
   "language": "python",
   "name": "python3"
  },
  "language_info": {
   "codemirror_mode": {
    "name": "ipython",
    "version": 3
   },
   "file_extension": ".py",
   "mimetype": "text/x-python",
   "name": "python",
   "nbconvert_exporter": "python",
   "pygments_lexer": "ipython3",
   "version": "3.7.7"
  }
 },
 "nbformat": 4,
 "nbformat_minor": 4
}
